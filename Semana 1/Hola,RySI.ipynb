{
 "cells": [
  {
   "cell_type": "markdown",
   "metadata": {
    "colab_type": "text",
    "id": "OWBzyirGquWi"
   },
   "source": [
    "<img height=\"60px\" src=\"http://www.lania.mx/lms/maestrias/pluginfile.php/1/theme_moove/logo/1551734351/Logo-Lania.png\" align=\"left\" hspace=\"20px\" vspace=\"5px\">\n",
    "\n",
    "## Te damos la bienvenida a Colaboratory\n",
    "\n",
    "Usaremos Colaboratory, el entorno gratuito de Jupyter Notebook que no requiere configuración y que se ejecuta completamente en la nube. Puedes consultar más información en la sección de [preguntas frecuentes](https://research.google.com/colaboratory/faq.html)."
   ]
  },
  {
   "cell_type": "markdown",
   "metadata": {
    "colab_type": "text",
    "id": "kq3K0SP1rEx0"
   },
   "source": [
    "## Revisando tu configuración \n",
    "Llegaste a esta libreta como parte del laboratorio de Configuración de Jupyter en la nube. Vamos  a asegurarnos que puedes ejecutar código y acceder a tu sistema local desde este entorno. Suponemos que has iniciado tu servidor de Jupyter desde una terminal con el comando \n",
    "\n",
    "```\n",
    "jupyter notebook --NotebookApp.allow_origin='https://colab.research.google.com' --port=8888 --NotebookApp.port_retries=0\n",
    "```\n",
    "\n",
    "Ahora en el menú del lado derecho navegar a \"CONECTAR\" -> \"Conectar a un entorno de ejecucion local\" y luego de asegurarse que el puerto es el mismo que el comando anterior, presionar CONECTAR. En ese momento deben ver que el sistema trata de conectarse al entorno local. Depués ejecuten las celdas siguientes.\n",
    "\n",
    "El resultado dependerá de su sistema pero puede ser muy similar al que se ve en esta libreta\n"
   ]
  },
  {
   "cell_type": "code",
   "execution_count": 3,
   "metadata": {
    "colab": {
     "base_uri": "https://localhost:8080/",
     "height": 102
    },
    "colab_type": "code",
    "id": "HmuWSlZitzyc",
    "outputId": "2dc6f8b2-66d0-4d75-cd4b-671c23343b01"
   },
   "outputs": [
    {
     "name": "stdout",
     "output_type": "stream",
     "text": [
      "Estoy usando el sistema operativo win32\n",
      "La version de `numpy` es 1.15.4\n",
      "El valor aproximado de Pi es 3.141593\n",
      "La version de `pandas` es 0.23.4\n",
      "La version de `matplotlib` es 2.2.3\n"
     ]
    }
   ],
   "source": [
    "import sys\n",
    "print(\"Estoy usando el sistema operativo \" + sys.platform)\n",
    "\n",
    "import numpy as np\n",
    "print(\"La version de `numpy` es %s\" % np.__version__)\n",
    "print(\"El valor aproximado de Pi es %f\" %np.pi)\n",
    "\n",
    "import pandas as pd\n",
    "print(\"La version de `pandas` es %s\" %pd.__version__)\n",
    "\n",
    "import matplotlib as mplt\n",
    "print(\"La version de `matplotlib` es %s\" %mplt.__version__)"
   ]
  },
  {
   "cell_type": "markdown",
   "metadata": {
    "colab_type": "text",
    "id": "zziistj4uKX2"
   },
   "source": [
    "## Importando el  módulo `android.py`\n",
    "\n",
    "Si realizaron correctamente los pasos de los Laboratorios anteriores deben poder evaluar las siguientes celdas sin error. La primera de ellas importa el módulo `android.py` que instalamos previamente, la segunda de ellas deber arrojar algo **si su dispositivo está conectado a la computadora**.\n"
   ]
  },
  {
   "cell_type": "code",
   "execution_count": 0,
   "metadata": {
    "colab": {},
    "colab_type": "code",
    "id": "nkXMI6ByqtUT"
   },
   "outputs": [],
   "source": [
    "import android"
   ]
  },
  {
   "cell_type": "code",
   "execution_count": 5,
   "metadata": {
    "colab": {
     "base_uri": "https://localhost:8080/",
     "height": 102
    },
    "colab_type": "code",
    "id": "P-TDrhjauw4D",
    "outputId": "eae41501-465a-4659-c141-766837136315"
   },
   "outputs": [
    {
     "name": "stdout",
     "output_type": "stream",
     "text": [
      "List of devices attached\n",
      "98f2eeee\tdevice\n",
      "\n"
     ]
    },
    {
     "name": "stderr",
     "output_type": "stream",
     "text": [
      "* daemon not running; starting now at tcp:5037\n",
      "* daemon started successfully\n"
     ]
    }
   ],
   "source": [
    "!adb devices"
   ]
  },
  {
   "cell_type": "markdown",
   "metadata": {
    "colab_type": "text",
    "id": "xF51gcUgtFPN"
   },
   "source": [
    "## Felicidades!\n",
    "Como pueden ver, mi entorno de ejecución es ahora Jupyter local. Puedo acceder a mis módulos y librearias locales asi como a mi disco duro local. Si llegaron aqui, han concluido con éxito este laboratorio. Mas tarde usaremos Colaboratory para generar y probar modelos de aprendizaje supervisado en la nube.\n",
    "\n"
   ]
  }
 ],
 "metadata": {
  "colab": {
   "name": "Hola, RySI",
   "provenance": [],
   "version": "0.3.2"
  },
  "kernelspec": {
   "display_name": "Python 3",
   "name": "python3"
  }
 },
 "nbformat": 4,
 "nbformat_minor": 1
}
