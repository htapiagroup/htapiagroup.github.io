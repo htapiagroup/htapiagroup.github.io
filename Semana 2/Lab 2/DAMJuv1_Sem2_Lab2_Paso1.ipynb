{
 "cells": [
  {
   "cell_type": "markdown",
   "metadata": {},
   "source": [
    "## Lectura de sensores\n",
    "Duration: 7:00\n",
    "positive\n",
    ": **Nota:** Siempre es buena idea revisar que la comunicacion con el dispositivo sige activa al comienzo de una nueva libreta. Aun cuando la conexion a traves de `tcp` deberia seguir activa mientras el servicio siga vigente en el dispositivo, no es necesario volver a establecerla. Sin embargo, en cada nueva libreta **sí** se tiene que importar el modulo `android`.\n",
    "\n",
    "Vamos a seguir la recomendacion de la nota anterior y verificar que el dispositivo esta conectado a la computadora. "
   ]
  },
  {
   "cell_type": "code",
   "execution_count": null,
   "metadata": {},
   "outputs": [],
   "source": [
    "!adb forward tcp:9999 tcp:2222"
   ]
  },
  {
   "cell_type": "code",
   "execution_count": null,
   "metadata": {},
   "outputs": [],
   "source": [
    "import android\n",
    "droide=android.Android()\n",
    "droide.makeToast(\"Hola desde Jupyter!\")"
   ]
  },
  {
   "cell_type": "markdown",
   "metadata": {},
   "source": [
    "Usaremos dos de las funciones para capturar eventos que construimos en el laboratorio anterior. La primera de ellas `event_loop` es una funcion auxiliar  para captar eventos vaciando el buffer de eventos y capturando el evento mas reciente. Hemos modificado la version presentada antes para que regrese los valores resultantes de la ejecucion."
   ]
  },
  {
   "cell_type": "code",
   "execution_count": null,
   "metadata": {},
   "outputs": [],
   "source": [
    "import time\n",
    "\n",
    "def event_loop():\n",
    "  for i in range(10):\n",
    "    time.sleep(1)\n",
    "    droide.eventClearBuffer()\n",
    "    time.sleep(1)\n",
    "    e = droide.eventPoll(1)\n",
    "    if e.result is not None:\n",
    "      return e.result\n",
    "  return False"
   ]
  },
  {
   "cell_type": "markdown",
   "metadata": {},
   "source": [
    "La segunda funcion retorna lectura de los sensores de aceleracion con una frecuencia de una lectura por segundo. Recordemos que de acuerdo [a la documentacion](http://www.mithril.com.au/android/doc/SensorManagerFacade.html), el primer valor dentro del llamado a `startSensingTimed` corresponde al sensor y el valor 2 representa el acelerometro del dispositivo."
   ]
  },
  {
   "cell_type": "code",
   "execution_count": null,
   "metadata": {},
   "outputs": [],
   "source": [
    "def prueba_sensor():\n",
    "  # 2: acelerometro; 1000 milisegundos entre lectura\n",
    "  droide.startSensingTimed(2, 1000)\n",
    "  try:\n",
    "    return event_loop()\n",
    "  finally:\n",
    "    droide.stopSensing()\n",
    "\n",
    "prueba_sensor()"
   ]
  },
  {
   "cell_type": "markdown",
   "metadata": {},
   "source": [
    "El programa anterior es util cuando necesitamos abrir una sola conexion con el sensor para obtener una lectura de su estado. Este modelo forza la utilizacion de un controlador central. Antes de continuar vamos a determinar que sensores tenemos disponibles en nuestro dispositivo.\n",
    "\n",
    "positive\n",
    ": Cada modelo de dispositivo movil contienen arreglos de sensores diferentes. Tradicionalmente los dispositivos Android tienen un acelerometro, un giroscopo y un sensor de campo magnetico, y por esto existe una funcion en la API de Python especifica para estos sensores.\n"
   ]
  },
  {
   "cell_type": "code",
   "execution_count": null,
   "metadata": {},
   "outputs": [],
   "source": [
    "def prueba_acelerometro():\n",
    "    # 2: acelerometro; 1000 milisegundos entre lectura\n",
    "    droide.makeToast(\"Prueba de acelerometro...\")\n",
    "    droide.startSensingTimed(2, 1000)\n",
    "    try:\n",
    "        return droide.sensorsReadAccelerometer().result\n",
    "    finally:\n",
    "        droide.stopSensing()\n",
    "\n",
    "prueba_acelerometro()"
   ]
  },
  {
   "cell_type": "markdown",
   "metadata": {},
   "source": [
    "<i></i> | <i></i>\n",
    "--------| ----\n",
    "positive\n",
    ":El resultado de la ejecucion anterior es una lista con tres valores que corresponden a las lecturas de la aceleracion en cada direccion del espacio tridimensional usando un sistema de coordenadas situadas en el dispositivo como se muestra en el esquema. | <img src=\"https://www.researchgate.net/profile/Oliver_Keller3/publication/309762259/figure/fig21/AS:426169960013828@1478618244213/Coordinate-system-for-multi-axis-accelerometer-and-gyroscope-sensor-data-of-an-iOS.png\" alt=\"CoordSys\" style=\"width: 350px;\"/> \n",
    "\n",
    "Vamos a modificar las funciones de la API para leer los datos del sensor de campo magnetico (magnetometro)"
   ]
  },
  {
   "cell_type": "code",
   "execution_count": null,
   "metadata": {},
   "outputs": [],
   "source": [
    "def prueba_magnetometro():\n",
    "    # 3: magnetometro; 1000 milisegundos entre lectura\n",
    "    droide.makeToast(\"Prueba de magnetometro...\")\n",
    "    droide.startSensingTimed(3, 1000)\n",
    "    try:\n",
    "        return droide.sensorsReadMagnetometer().result\n",
    "    finally:\n",
    "        droide.stopSensing()\n",
    "\n",
    "prueba_magnetometro()"
   ]
  },
  {
   "cell_type": "markdown",
   "metadata": {},
   "source": [
    "y del sensor de orientacion (giroscopo):"
   ]
  },
  {
   "cell_type": "code",
   "execution_count": null,
   "metadata": {},
   "outputs": [],
   "source": [
    "def prueba_orientacion():\n",
    "    # 1: todos los sensores; 1000 milisegundos entre lectura\n",
    "    droide.makeToast(\"Prueba de orientacion...\")\n",
    "    droide.startSensingTimed(1, 1000)\n",
    "    try:\n",
    "        return droide.sensorsReadOrientation().result\n",
    "    finally:\n",
    "        droide.stopSensing()\n",
    "\n",
    "prueba_orientacion()"
   ]
  },
  {
   "cell_type": "markdown",
   "metadata": {},
   "source": [
    "En todos los casos obtnemos una lista con los tres valores correspondientes a cada una de las direcciones de acuerdo al diagrama anterior. La interpretacion fisica de cada lectura se deja para mas adelante y es importante saber como interpretar las lecturas ya que los valores dan informacion sobre el contexto del dispositivo: movimiento (aceleracion), orientacion (giroscopo) y posicion respecto al norte magnetico de la Tierra (magnetometro)."
   ]
  },
  {
   "cell_type": "markdown",
   "metadata": {},
   "source": [
    "Algunos dispositivos incluyen mas sensores, tipicamente todos tienen ademas de los tres ya indicados un sensor de luminosidad. La API proporciona una forma de saber que otros sensores se tienen y veremo ademas la ventaja de usar nuestra funcion `event_poll`.\n",
    "\n",
    "Evaluen la siguiente funcion una vez, registren el numero que resulta y despues  cubran la pantalla de su dispositivo y vuelvan a evaluar. Que ocurre?"
   ]
  },
  {
   "cell_type": "code",
   "execution_count": null,
   "metadata": {},
   "outputs": [],
   "source": [
    "def prueba_iluminacion():\n",
    "    # 4: sensor luminosidad; 1000 milisegundos entre lectura\n",
    "    droide.makeToast(\"Prueba de luminosidad...\")\n",
    "    droide.startSensingTimed(4, 1000)\n",
    "    try:\n",
    "        return droide.sensorsGetLight().result\n",
    "    finally:\n",
    "        droide.stopSensing()\n",
    "\n",
    "prueba_iluminacion()"
   ]
  },
  {
   "cell_type": "markdown",
   "metadata": {},
   "source": [
    "Evaluen nuevamente la funcion pero con la pantalla cubierta..."
   ]
  },
  {
   "cell_type": "code",
   "execution_count": null,
   "metadata": {},
   "outputs": [],
   "source": [
    "prueba_iluminacion()"
   ]
  },
  {
   "cell_type": "markdown",
   "metadata": {},
   "source": [
    "## Lectura de sensores usando `readSensors`\n",
    "\n",
    "La API incluye una funcion nombrada `readSensors` que regresa los valores mas recientes que se han registrado por los sensores. Esta funcion se invoca primero indicando que los sensores deben estar \"atentos\" a censar:"
   ]
  },
  {
   "cell_type": "code",
   "execution_count": null,
   "metadata": {},
   "outputs": [],
   "source": [
    "droide.startSensingTimed(1, 1000)"
   ]
  },
  {
   "cell_type": "markdown",
   "metadata": {},
   "source": [
    "el llamado de la funcion es como sigue:"
   ]
  },
  {
   "cell_type": "code",
   "execution_count": null,
   "metadata": {},
   "outputs": [],
   "source": [
    "lecturas = droide.readSensors().result"
   ]
  },
  {
   "cell_type": "markdown",
   "metadata": {},
   "source": [
    "y finalmente no debemos olvidar indicar al dispositivo que deje de tomar lecturas de los sensores, de otro modo puede interferir con otras actividades:"
   ]
  },
  {
   "cell_type": "code",
   "execution_count": null,
   "metadata": {},
   "outputs": [],
   "source": [
    "droide.stopSensing()"
   ]
  },
  {
   "cell_type": "markdown",
   "metadata": {},
   "source": [
    "## Usando controlador central via `event_loop`\n",
    "\n",
    "La funcion `event_loop` que construimos previamente nos permite acceder a las lecturas de los sensores disponibles pero ya controla los pasos anteriores:"
   ]
  },
  {
   "cell_type": "code",
   "execution_count": null,
   "metadata": {},
   "outputs": [],
   "source": [
    "def prueba_sensores():\n",
    "  # 1: todos los sensores; 1000 milisegundos entre lectura\n",
    "  droide.startSensingTimed(1, 1000)\n",
    "  try:\n",
    "    return event_loop()\n",
    "  finally:\n",
    "    droide.stopSensing()\n",
    "\n",
    "lecturas2 = prueba_sensores()"
   ]
  },
  {
   "cell_type": "markdown",
   "metadata": {},
   "source": [
    "Comparemos los sensores disponibles entre ambos metodos:"
   ]
  },
  {
   "cell_type": "code",
   "execution_count": null,
   "metadata": {},
   "outputs": [],
   "source": [
    "print(lecturas.keys())"
   ]
  },
  {
   "cell_type": "code",
   "execution_count": null,
   "metadata": {},
   "outputs": [],
   "source": [
    "print(lecturas2[0]['data'].keys())"
   ]
  },
  {
   "cell_type": "markdown",
   "metadata": {},
   "source": [
    "positive\n",
    ": **Nota:** Como mencionamos, cada dispositivo contiene un arreglo diferente de sensores, asi que los resultados que observen dependeran de su modelo. En el fondo del alma la funcion `readSensors` utiliza `eventPoll` para tomar las lecturas, sin embargo `eventPoll` permite un control mas fino de los eventos que se estan registrando."
   ]
  },
  {
   "cell_type": "markdown",
   "metadata": {},
   "source": [
    "## Visualizando las lecturas del acelerometro\n",
    "\n",
    "Vamos a realizar un programa que registre los datos del acelerometro. Este sera util para conocer el estado de movimiento del dispositivo (y por lo tanto del usuario).\n",
    "\n",
    "La estructura del programa es como sigue: primero definimos el tiempo entre lecturas del sensor y lo nombramos `dt`."
   ]
  },
  {
   "cell_type": "code",
   "execution_count": null,
   "metadata": {},
   "outputs": [],
   "source": [
    "dt = 100 # 100ms entre lecturas"
   ]
  },
  {
   "cell_type": "markdown",
   "metadata": {},
   "source": [
    "positive\n",
    ": Mientras mas pequeno es el intervalo entre lecturas, es mas probable que puedan detectarse eventos importantes o de interes. El tiempo entre lecturas lo deben determinar de acuerdo a lo que quieren detectar. Pero recuerden que mientras mas corto este tiempo, mas gasto de bateria pues el sensor esta tomando lecturas con mas frecuencia.\n",
    "\n",
    "Ahora vamos a definir el tiempo total que el dispositivo estara registrando valores, en este caso por segundos:"
   ]
  },
  {
   "cell_type": "code",
   "execution_count": null,
   "metadata": {},
   "outputs": [],
   "source": [
    "tfin = 3000 # toma lecturas por 3 segundos"
   ]
  },
  {
   "cell_type": "markdown",
   "metadata": {},
   "source": [
    "El dispositivo va a tomar lecturas del estado del sensor en el siguiente segmento de codigo, "
   ]
  },
  {
   "cell_type": "code",
   "execution_count": null,
   "metadata": {},
   "outputs": [],
   "source": [
    "tiempo = 0\n",
    "\n",
    "droide.startSensingTimed(2, dt)\n",
    "\n",
    "while tiempo <= tfin:\n",
    "    print droide.sensorsReadAccelerometer().result\n",
    "    time.sleep(dt/1000.0)\n",
    "    tiempo += dt\n",
    "droide.stopSensing()"
   ]
  },
  {
   "cell_type": "markdown",
   "metadata": {},
   "source": [
    "## Visualizando los valores\n",
    "\n",
    "Como tenemos acceso a las lecturas, podemos visualizar los tres valores de las aceleraciones captadas por el sensor en el sistema local. Para eso vamos a usar una libreria especializada para hacer graficass y que deben tener instalada. Primero modificamos el programa como sigue:"
   ]
  },
  {
   "cell_type": "code",
   "execution_count": null,
   "metadata": {},
   "outputs": [],
   "source": [
    "acel = []\n",
    "tiempo = 0\n",
    "\n",
    "droide.startSensingTimed(2, dt)\n",
    "\n",
    "while tiempo <= tfin:\n",
    "    acel.append(droide.sensorsReadAccelerometer().result)\n",
    "    tiempo += dt\n",
    "droide.stopSensing()"
   ]
  },
  {
   "cell_type": "markdown",
   "metadata": {},
   "source": [
    "Donde hemos definido la lista `acel` inicialmente vacia, y a la que iremos agregando los valores del sensor dentro del `while`. Ahora evaluen lo siguiente"
   ]
  },
  {
   "cell_type": "code",
   "execution_count": null,
   "metadata": {},
   "outputs": [],
   "source": [
    "import pandas as pd\n",
    "%matplotlib inline"
   ]
  },
  {
   "cell_type": "markdown",
   "metadata": {},
   "source": [
    "La libreria `pandas` contiene metodos y clases para un tipo de estructuras de datos llamadas `DataFrames` que permiten la manipulacion y el analisis de datos de manera eficiente. La segunda linea nos permite visualizar las graficas en la libreta. Ahora evaluen lo que sigue"
   ]
  },
  {
   "cell_type": "code",
   "execution_count": null,
   "metadata": {},
   "outputs": [],
   "source": [
    "a = pd.DataFrame(acel, columns=[\"ax\",\"ay\",\"az\"])"
   ]
  },
  {
   "cell_type": "markdown",
   "metadata": {},
   "source": [
    "La estructura `a` contiene los datos del sensor obtenidos de la lista `acel` en un formato similar a las tablas de columnas y renglones tradicionalmente usadas en software de oficina. Pero ademas contiene metodos heradados que permiten la manipulacion eficiente de los datos. Por ejemplo podemos graficarlos evaluando"
   ]
  },
  {
   "cell_type": "code",
   "execution_count": null,
   "metadata": {},
   "outputs": [],
   "source": [
    "a.plot()"
   ]
  },
  {
   "cell_type": "markdown",
   "metadata": {},
   "source": [
    "## Entrega\n",
    "\n",
    "Van a modificar los programas necesarios para graficar los valores de orientacion, campo magnetico y luminosidad de sus dispositivos.\n",
    "\n",
    "La libreta de entrega de este laboratorio debe mostrar los programas y las tres graficas correspondientes a los sensores.\n"
   ]
  },
  {
   "cell_type": "markdown",
   "metadata": {},
   "source": [
    "Survey\n",
    ": La funcion `sensorsReadAccelerometer` regresa\n",
    " - Un diccionario larousse\n",
    " - Una matrix aleatoria\n",
    " - Una lista de tres numeros\n",
    " - Nada\n",
    ": Mi dispositivo cuenta con al menos los siguientes sensores \n",
    " - Luminosidad, Aceleracion, Campo magnetico y orientacion\n",
    " - Luminosidad y orientacion\n",
    " - Luminosidad, Aceleracion, Campo magnetico, Orientacion, Presion barometrica y bioxido de carbono\n",
    " - No tiene sensores\n",
    " \n",
    "## Enlaces y recursos externos\n",
    "\n",
    "* http://www.smartphonedaq.com/accelerometer.page"
   ]
  }
 ],
 "metadata": {
  "kernelspec": {
   "display_name": "Python 2",
   "language": "python",
   "name": "python2"
  },
  "language_info": {
   "codemirror_mode": {
    "name": "ipython",
    "version": 2
   },
   "file_extension": ".py",
   "mimetype": "text/x-python",
   "name": "python",
   "nbconvert_exporter": "python",
   "pygments_lexer": "ipython2",
   "version": "2.7.15"
  }
 },
 "nbformat": 4,
 "nbformat_minor": 2
}
