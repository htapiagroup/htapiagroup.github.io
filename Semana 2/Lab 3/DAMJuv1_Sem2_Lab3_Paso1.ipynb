{
 "cells": [
  {
   "cell_type": "markdown",
   "metadata": {},
   "source": [
    "## Antenas y radios\n",
    "Duration: 7:00\n",
    "positive\n",
    ": **Nota:** Siempre es buena idea revisar que la comunicacion con el dispositivo sige activa al comienzo de una nueva libreta. Aun cuando la conexion a traves de `tcp` deberia seguir activa mientras el servicio siga vigente en el dispositivo, no es necesario volver a establecerla. Sin embargo, en cada nueva libreta **sí** se tiene que importar el modulo `android`.\n",
    "\n",
    "Vamos a seguir la recomendacion de la nota anterior y verificar que el dispositivo esta conectado a la computadora. \n",
    "\n",
    "### Estableciendo conexion con el dispositivo"
   ]
  },
  {
   "cell_type": "code",
   "execution_count": null,
   "metadata": {},
   "outputs": [],
   "source": [
    "!adb forward tcp:9999 tcp:2222"
   ]
  },
  {
   "cell_type": "code",
   "execution_count": null,
   "metadata": {},
   "outputs": [],
   "source": [
    "import android\n",
    "droide=android.Android()\n",
    "droide.makeToast(\"Hola desde Jupyter!\")"
   ]
  },
  {
   "cell_type": "markdown",
   "metadata": {},
   "source": [
    "## Localizacion\n",
    "En 1995 existen en operacion satelites que proporcionan a los civiles un [Sstema de Posicionamiento Global (en inglés, **GPS**; Global Positioning System)](https://es.wikipedia.org/wiki/GPS) que permite determinar la posicion de cualquier objeto sobre la Tierra.\n",
    "\n",
    "Los dispositivos moviles modernos tienen una antena receptora de GPS y la API de Python ofrece algunas funciones para extraer valores de ella que permiten conocer la geoposicion actual del dispositivo. Una de ellas es\n",
    "\n",
    "### <sub>getLastKnownLocation</sub> ###\n",
    "```\n",
    "getLastKnownLocation()\n",
    "\n",
    "Returns the last known location of the device.\n",
    "\n",
    "Returns:\n",
    "  A map of location information by provider.\n",
    "```"
   ]
  },
  {
   "cell_type": "code",
   "execution_count": null,
   "metadata": {},
   "outputs": [],
   "source": [
    "droide.getLastKnownLocation()"
   ]
  },
  {
   "cell_type": "markdown",
   "metadata": {},
   "source": [
    "## Parentesis\n",
    "Para desarrollar aplicaciones relacionadas a informacion de geoposicion es util contar con una herramienta para visualizar mapas. La libreria `matplotlib` cuenta con funcionalidad elemental para graficos simples, por ejemplo graficas de dispersion, barras, etc. Por supuesto los pares de latitud,longitud pueden visualizarse con funnciones disponibles en esta libreria sin embargo, no muestran capas de referencia a la geolocalizacion (mapas). Aunque existen varias librearias que proporcionan funciones utiles y flexibles para visualizar mapas, entre ellas `basemaps`, `ipyleaflet`, `bokeh`, `gmaps`, etc. vamos a utilizar nuestro dispositivo que ya contiene un a \"libreria\" de mapas instalada: la aplicacion de mapas de Google.\n",
    "\n",
    "### Abrir una aplicacion en el dispositivo\n",
    "Primero veamos como abrir una aplicacion en el dispositivo desde Python. Podemos ver la lista de aplicaciones en el dispositivo con la siguiente instruccion:"
   ]
  },
  {
   "cell_type": "code",
   "execution_count": null,
   "metadata": {},
   "outputs": [],
   "source": [
    "droide.getLaunchableApplications().result"
   ]
  },
  {
   "cell_type": "markdown",
   "metadata": {},
   "source": [
    "positive\n",
    ": La lista de aplicaciones varia de acuerdo al modelo y version de sistema que tenga el dispositivo movil.\n",
    "\n",
    "Podemos ver que la estructura del diccionario es un par de llave:valor de la forma `{u'AppName':u'ClassName'}`. En algunas ocasiones es posible iniciar las aplicaciones usando la instruccion `launch(u'ClassName')`, por ejemplo"
   ]
  },
  {
   "cell_type": "code",
   "execution_count": null,
   "metadata": {},
   "outputs": [],
   "source": [
    "fb = droide.getLaunchableApplications().result['Facebook']\n",
    "print(fb)"
   ]
  },
  {
   "cell_type": "code",
   "execution_count": null,
   "metadata": {},
   "outputs": [],
   "source": [
    "droide.launch(fb)"
   ]
  },
  {
   "cell_type": "markdown",
   "metadata": {},
   "source": [
    "Sin embargo no todos las clases que se obtienen del comando `getLaunchableApplications` se ejecutan directamente, por ejemplo no es posible iniciar la aplicacion de mapas si usamos la misma estrategia. Ejecuten el siguiente codigo y observen que no se abre la aplicacion esperada en el dispositivo. "
   ]
  },
  {
   "cell_type": "code",
   "execution_count": null,
   "metadata": {},
   "outputs": [],
   "source": [
    "mapas = droide.getLaunchableApplications().result['Maps']\n",
    "print(mapas)\n",
    "droide.launch(mapas)"
   ]
  },
  {
   "cell_type": "markdown",
   "metadata": {},
   "source": [
    "La razon es que la clase a la que esta ligada la aplicacion `Maps` no es un programa sino una *actividad*. Para iniciar el programa de mapas podemos usar\n",
    "\n",
    "### <sub>startActivity</sub> ###\n",
    "```\n",
    "startActivity(\n",
    " String action,\n",
    " String uri[optional],\n",
    " String type[optional]: MIME type/subtype of the URI,\n",
    " JSONObject extras[optional]: a Map of extras to add to the Intent,\n",
    " Boolean wait[optional]: block until the user exits the started activity,\n",
    " String packagename[optional]: name of package. If used, requires classname to  \n",
    "be useful,\n",
    " String classname[optional]: name of class. If used, requires packagename to be \n",
    "useful)\n",
    "\n",
    "Starts an activity.\n",
    "```\n",
    "\n",
    "como sigue:"
   ]
  },
  {
   "cell_type": "code",
   "execution_count": null,
   "metadata": {},
   "outputs": [],
   "source": [
    "droide.startActivity(\n",
    "                    'android.intent.action.MAIN',\n",
    "                    None,\n",
    "                    None,\n",
    "                    None,\n",
    "                    False,\n",
    "                    'com.google.android.apps.maps',\n",
    "                    'com.google.android.maps.MapsActivity'\n",
    "                    )"
   ]
  },
  {
   "cell_type": "markdown",
   "metadata": {},
   "source": [
    "La aplicacion inicia desplegando el mapa mas reciente. Es posible especificar una localizacion para el mapa si se espcifica el segundo argumneto `uri` de la funcion. Por ejemplo:"
   ]
  },
  {
   "cell_type": "code",
   "execution_count": null,
   "metadata": {},
   "outputs": [],
   "source": [
    "uri = \"geo:19.024666568 -97.268665592\"\n",
    "droide.startActivity(\n",
    "                    'android.intent.action.VIEW',\n",
    "                    uri,\n",
    "                    None,\n",
    "                    None,\n",
    "                    False,\n",
    "                    'com.google.android.apps.maps',\n",
    "                    'com.google.android.maps.MapsActivity'\n",
    "                    )"
   ]
  },
  {
   "cell_type": "markdown",
   "metadata": {},
   "source": [
    "Para obtener la mas reciente geolocalizacion del dispositivo podemos usar la siguiente instruccion:"
   ]
  },
  {
   "cell_type": "code",
   "execution_count": null,
   "metadata": {},
   "outputs": [],
   "source": [
    "droide.getLastKnownLocation().result"
   ]
  },
  {
   "cell_type": "markdown",
   "metadata": {},
   "source": [
    "Observen que la funcion regresa un diccionario con tres llaves: `gps`, `network` y `passive`, cada una con valores que son nuevamente otro diccionario que contienen detalles de la localizacion. Por el momento nos interesan unicamente `latitude` y `longitude`de la informacion proporcionada por el GPS:"
   ]
  },
  {
   "cell_type": "code",
   "execution_count": null,
   "metadata": {},
   "outputs": [],
   "source": [
    "lon,lat=[droide.getLastKnownLocation().result['gps'][l] for l in ('longitude','latitude')]"
   ]
  },
  {
   "cell_type": "code",
   "execution_count": null,
   "metadata": {},
   "outputs": [],
   "source": [
    "uri = \"geo:%s %s?z=15\"%(lat,lon)\n",
    "droide.startActivity(\n",
    "                    'android.intent.action.VIEW',\n",
    "                    uri,\n",
    "                    None,\n",
    "                    None,\n",
    "                    False,\n",
    "                    'com.google.android.apps.maps',\n",
    "                    'com.google.android.maps.MapsActivity'\n",
    "                    )"
   ]
  },
  {
   "cell_type": "markdown",
   "metadata": {},
   "source": [
    "### Invocando aplicaciones\n",
    "la funcion `startActivity` puede usarse para iniciar aplicaciones usando las opciones de otras formas:"
   ]
  },
  {
   "cell_type": "code",
   "execution_count": null,
   "metadata": {},
   "outputs": [],
   "source": [
    "droide.startActivity('android.intent.action.VIEW', \n",
    "      'vnd.youtube:1_u0NmrFM0c', None, None, False, None, None)"
   ]
  },
  {
   "cell_type": "markdown",
   "metadata": {},
   "source": [
    "### Ejercicio\n",
    "Busca en internet las coordenadas de alguna localizacion de interes para ti (puedes encontrar idean [en esta pagina](https://latitude.to/articles-by-country/mx/mexico/)) y muestra en el mapa la posicion desde "
   ]
  },
  {
   "cell_type": "markdown",
   "metadata": {},
   "source": [
    "## Navegacion\n",
    "En los ejemplos previos usamos la geolocalizacion mas reciente que \"recuerda\" el dispositivo. Podemos utilizar la informacion de GPS para conocer nuestra ubicacion actual y para darle seguimiento a cambios en la geolocalizacion.\n",
    "\n",
    "positive\n",
    ": El uso continuo del GPS puede reducir la bateria considerablemente. En el siguiente laboratorio vamos a monitorear la bateria y podran darse cuenta de esto con los datos de su dispositivo. \n",
    "\n",
    "Para conocer la posicion actual del dispositivo podemos usar\n",
    "\n",
    "### <sub>startLocating</sub> ###\n",
    "```\n",
    "startLocating(\n",
    " Integer minDistance[optional, default 60000]: minimum time between updates in  \n",
    "milliseconds,\n",
    " Integer minUpdateDistance[optional, default 30]: minimum distance between      \n",
    "updates in meters)\n",
    "\n",
    "Starts collecting location data.\n",
    "\n",
    "Generates \"location\" events.\n",
    "```"
   ]
  },
  {
   "cell_type": "code",
   "execution_count": null,
   "metadata": {},
   "outputs": [],
   "source": [
    "!adb forward tcp:9999 tcp:2222\n",
    "import android\n",
    "droide=android.Android()\n",
    "droide.makeToast(\"Hola desde Jupyter!\")"
   ]
  },
  {
   "cell_type": "code",
   "execution_count": null,
   "metadata": {},
   "outputs": [],
   "source": [
    "droide.startLocating()"
   ]
  },
  {
   "cell_type": "code",
   "execution_count": null,
   "metadata": {},
   "outputs": [],
   "source": [
    "print \"reading GPS ...\" \n",
    "event = droide.eventWaitFor('location',10000).result"
   ]
  },
  {
   "cell_type": "code",
   "execution_count": null,
   "metadata": {},
   "outputs": [],
   "source": [
    "print event"
   ]
  },
  {
   "cell_type": "code",
   "execution_count": null,
   "metadata": {},
   "outputs": [],
   "source": [
    "if event['name'] == \"location\": \n",
    "    try: \n",
    "        lat = str(event['data']['gps']['latitude']) \n",
    "        lng = str(event['data']['gps']['longitude']) \n",
    "    except KeyError: \n",
    "        lat = str(event['data']['fused']['latitude']) \n",
    "        lng = str(event['data']['fused']['longitude'])\n",
    "    latlng = 'lat: ' + lat + ' lng: ' + lng \n",
    "    print droide.makeToast(\"Coordenadas: %s\"%latlng)"
   ]
  },
  {
   "cell_type": "code",
   "execution_count": null,
   "metadata": {},
   "outputs": [],
   "source": [
    "droide.stopLocating()"
   ]
  },
  {
   "cell_type": "code",
   "execution_count": null,
   "metadata": {},
   "outputs": [],
   "source": [
    "droide.startLocating()\n",
    "\n",
    "event = droide.eventWaitFor('location',10000).result\n",
    "\n",
    "if event['name'] == \"location\": \n",
    "    try: \n",
    "        lat = str(event['data']['gps']['latitude']) \n",
    "        lng = str(event['data']['gps']['longitude']) \n",
    "    except KeyError: \n",
    "        lat = str(event['data']['fused']['latitude']) \n",
    "        lng = str(event['data']['fused']['longitude'])\n",
    "    latlng = 'lat: ' + lat + '\\nlng: ' + lng \n",
    "    print droide.makeToast(\"Coordenadas: \\n %s\"%latlng)\n",
    "\n",
    "droide.stopLocating()"
   ]
  },
  {
   "cell_type": "code",
   "execution_count": null,
   "metadata": {},
   "outputs": [],
   "source": [
    "droide.geocode(lat, lon).result"
   ]
  },
  {
   "cell_type": "code",
   "execution_count": null,
   "metadata": {},
   "outputs": [],
   "source": [
    "uri = \"google.navigation:q=Los Pinos CDMX\"\n",
    "droide.startActivity(\n",
    "                    'android.intent.action.VIEW',\n",
    "                    uri,\n",
    "                    None,\n",
    "                    None,\n",
    "                    False,\n",
    "                    'com.google.android.apps.maps',\n",
    "                    'com.google.android.maps.MapsActivity'\n",
    "                    )"
   ]
  },
  {
   "cell_type": "markdown",
   "metadata": {},
   "source": [
    "## Enlaces y recursos externos\n",
    "\n",
    "### Android\n",
    "* https://stackoverflow.com/questions/48502915/get-list-of-all-apps-with-qpython-sl4a\n",
    "* https://stackoverflow.com/questions/2662531/launching-google-maps-directions-via-an-intent-on-android\n",
    "* https://stackoverflow.com/questions/48978716/open-html-file-on-android-with-python-androidhelper-sl4a\n",
    "* https://stackoverflow.com/questions/6205827/how-to-open-standard-google-map-application-from-my-application\n",
    "* https://developer.android.com/guide/appendix/g-app-intents.html\n",
    "* https://android.stackexchange.com/questions/119144/android-tethering-shell-to-python-code-sl4a-api\n",
    " \n",
    "### SL4A\n",
    "* https://www.pythoncentral.io/series/python-sl4a-android-scripting-layer-tutorial/"
   ]
  },
  {
   "cell_type": "code",
   "execution_count": null,
   "metadata": {},
   "outputs": [],
   "source": []
  }
 ],
 "metadata": {
  "kernelspec": {
   "display_name": "Python 2",
   "language": "python",
   "name": "python2"
  },
  "language_info": {
   "codemirror_mode": {
    "name": "ipython",
    "version": 2
   },
   "file_extension": ".py",
   "mimetype": "text/x-python",
   "name": "python",
   "nbconvert_exporter": "python",
   "pygments_lexer": "ipython2",
   "version": "2.7.15"
  }
 },
 "nbformat": 4,
 "nbformat_minor": 2
}
