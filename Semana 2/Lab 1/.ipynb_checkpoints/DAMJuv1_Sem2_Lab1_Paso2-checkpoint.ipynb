{
 "cells": [
  {
   "cell_type": "markdown",
   "metadata": {},
   "source": [
    "## Ejecutando comandos en el dispositivo desde Jupyter\n",
    "Duration: 5:00\n",
    "\n",
    "Si lograron establecer la conexion entre el dispositivo y su sistema, estan listos para comenzar a desarrollar en Android con Python. A continuacion escriban el siguiente codigo:"
   ]
  },
  {
   "cell_type": "code",
   "execution_count": null,
   "metadata": {},
   "outputs": [],
   "source": [
    "!adb devices"
   ]
  },
  {
   "cell_type": "code",
   "execution_count": null,
   "metadata": {},
   "outputs": [],
   "source": [
    "!adb forward tcp:9999 tcp:2222"
   ]
  },
  {
   "cell_type": "code",
   "execution_count": 2,
   "metadata": {},
   "outputs": [
    {
     "data": {
      "text/plain": [
       "Result(id=0, result=None, error=None)"
      ]
     },
     "execution_count": 2,
     "metadata": {},
     "output_type": "execute_result"
    }
   ],
   "source": [
    "import android\n",
    "droide=android.Android()\n",
    "droide.makeToast(\"Hola desde Jupyter!\")"
   ]
  },
  {
   "cell_type": "markdown",
   "metadata": {},
   "source": [
    "positive\n",
    ": **Observacion:** Noten como no es necesario volver a establecer el puente `tcp` entre los sistemas. En principio, esto debe realizarse una sola vez y la conexion es permanente hasta que por alguna razon se pierda el enlace. Esto ocurre en algunas ocasiones e iremos notandolo cuando suceda y plantear posibles soluciones.\n",
    "\n",
    "Ahora ejecute el siguiente comando:"
   ]
  },
  {
   "cell_type": "code",
   "execution_count": 3,
   "metadata": {},
   "outputs": [
    {
     "data": {
      "text/plain": [
       "Result(id=1, result=None, error=None)"
      ]
     },
     "execution_count": 3,
     "metadata": {},
     "output_type": "execute_result"
    }
   ],
   "source": [
    "droide.vibrate(2500)"
   ]
  },
  {
   "cell_type": "markdown",
   "metadata": {},
   "source": [
    "Survey\n",
    ": Responde, cual es el resultado del comando anterior:\n",
    " - El dispositivo se eleva 2500 mm desde su posicion de reposo\n",
    " - El dispositivo vibra durante 2.5 segundos\n",
    " - El dispositivo emite un sonido agudo durante 25 segundos\n",
    " - El dispositivo no realiza ninguna accion"
   ]
  },
  {
   "cell_type": "markdown",
   "metadata": {},
   "source": [
    "## Estructura de los comando de Python ejecutados por Android\n",
    "Duration: 15:00\n",
    "\n",
    "Ejecuten los siguientes comandos, observen lo que hace su dispositivo y vean la salida que se obtiene por el interprete:"
   ]
  },
  {
   "cell_type": "code",
   "execution_count": null,
   "metadata": {},
   "outputs": [],
   "source": [
    "droide.makeToast(\"RySi coloca texto aqui\")"
   ]
  },
  {
   "cell_type": "code",
   "execution_count": null,
   "metadata": {},
   "outputs": [],
   "source": [
    "droide.vibrate(2500)"
   ]
  },
  {
   "cell_type": "code",
   "execution_count": null,
   "metadata": {},
   "outputs": [],
   "source": [
    "droide.notify(\"RySI\", \"Esta es una notificacion\")"
   ]
  },
  {
   "cell_type": "code",
   "execution_count": null,
   "metadata": {},
   "outputs": [],
   "source": [
    "droide.wifiGetConnectionInfo()"
   ]
  },
  {
   "cell_type": "markdown",
   "metadata": {},
   "source": [
    "Todos los comandos ejecutados por el interprete de Python en Android regresan con la misma estructura: un objeto identificado por `Result` con tres diccionarios, `id`, `result` y `error`. Si observan los diferentes valores del ientificador `id` en las salidas de los comandos anteriores, pueden notar que van incrementando en una unidad a partir de `id=0`. El objeto `result` consiste en un diccionario (pares llaves/valores) que contiene la informacion que la funcion regresa. En caso que la funcion no regresa nada, este diccionario tiene el valor `None`. Finalmente, `error` indica si se detecto algun error durante la ejecucion. Podemos acceder a estos valores si asignamos una variable a la funcion. Ejecuten el siguiente codigo"
   ]
  },
  {
   "cell_type": "code",
   "execution_count": null,
   "metadata": {},
   "outputs": [],
   "source": [
    "wifiConnectionInfo = droide.wifiGetConnectionInfo()"
   ]
  },
  {
   "cell_type": "markdown",
   "metadata": {},
   "source": [
    "La informacion desplegada anteriormente, ahora esta contenida en la variable `wifiConnectionInfo` y podemos extraerla de la siguiente forma:"
   ]
  },
  {
   "cell_type": "code",
   "execution_count": null,
   "metadata": {},
   "outputs": [],
   "source": [
    "print(\"El identificador del comando ejecutado es: %s\"%wifiConnectionInfo.id)\n",
    "print(\"El resultado del comando anterior es: %s\"%wifiConnectionInfo.result)\n",
    "print(\"El error al ejecutar el comando anterior es: %s\"%wifiConnectionInfo.error)"
   ]
  },
  {
   "cell_type": "markdown",
   "metadata": {},
   "source": [
    "Podemos acceder de manera iterativa a cada uno de los objetos regresados si lo [incluimos en un `iterador`](https://www.w3schools.com/python/python_iterators.asp) (pueden encontrar mas informacion de iteradores en Python y funciones apropiadas para ello [en este enlace](https://realpython.com/python-itertools/)). "
   ]
  },
  {
   "cell_type": "code",
   "execution_count": null,
   "metadata": {},
   "outputs": [],
   "source": [
    "wci=iter(wifiConnectionInfo)"
   ]
  },
  {
   "cell_type": "code",
   "execution_count": null,
   "metadata": {},
   "outputs": [],
   "source": [
    "print(next(wci))"
   ]
  },
  {
   "cell_type": "code",
   "execution_count": null,
   "metadata": {},
   "outputs": [],
   "source": [
    "print(next(wci))"
   ]
  },
  {
   "cell_type": "code",
   "execution_count": null,
   "metadata": {},
   "outputs": [],
   "source": [
    "print(next(wci))"
   ]
  },
  {
   "cell_type": "markdown",
   "metadata": {},
   "source": [
    "Tambien podemos acceder a traves de una iteracion:"
   ]
  },
  {
   "cell_type": "code",
   "execution_count": null,
   "metadata": {},
   "outputs": [],
   "source": [
    "wci=iter(wifiConnectionInfo)\n",
    "for r in wci:\n",
    "    print(r)"
   ]
  },
  {
   "cell_type": "markdown",
   "metadata": {},
   "source": [
    "En muchas ocasiones nos interesa unicamente el resultado de la funcion. En ese caso lo asignamos a una variable, como en el ejemplo siguiente:"
   ]
  },
  {
   "cell_type": "code",
   "execution_count": null,
   "metadata": {},
   "outputs": [],
   "source": [
    "toast = droide.makeToast(\"Hola desde Jupyter!\")\n",
    "result = toast.result\n",
    "print(result)"
   ]
  },
  {
   "cell_type": "code",
   "execution_count": 4,
   "metadata": {},
   "outputs": [],
   "source": [
    "wifiConnectionInfo = droide.wifiGetConnectionInfo().result"
   ]
  },
  {
   "cell_type": "code",
   "execution_count": 5,
   "metadata": {},
   "outputs": [
    {
     "data": {
      "text/plain": [
       "{u'bssid': u'd0:60:8c:2d:19:0e',\n",
       " u'hidden_ssid': False,\n",
       " u'ip_address': 922855616,\n",
       " u'link_speed': 58,\n",
       " u'mac_address': u'1c:cb:99:69:4b:6a',\n",
       " u'network_id': 8,\n",
       " u'rssi': -65,\n",
       " u'ssid': u'\"H198A_190E_2.4G\"',\n",
       " u'supplicant_state': u'completed'}"
      ]
     },
     "execution_count": 5,
     "metadata": {},
     "output_type": "execute_result"
    }
   ],
   "source": [
    "wifiConnectionInfo"
   ]
  },
  {
   "cell_type": "markdown",
   "metadata": {},
   "source": [
    "Como mencionamos, la estructura de `result` es un diccionario, un tipo de variable que se caracteriza por siempre ocurrir en pares de llaves/valores. Podemos acceder a las llaves con el metodo `keys()`:"
   ]
  },
  {
   "cell_type": "code",
   "execution_count": 6,
   "metadata": {},
   "outputs": [
    {
     "data": {
      "text/plain": [
       "[u'ssid',\n",
       " u'bssid',\n",
       " u'network_id',\n",
       " u'supplicant_state',\n",
       " u'link_speed',\n",
       " u'mac_address',\n",
       " u'rssi',\n",
       " u'ip_address',\n",
       " u'hidden_ssid']"
      ]
     },
     "execution_count": 6,
     "metadata": {},
     "output_type": "execute_result"
    }
   ],
   "source": [
    "wifiConnectionInfo.keys()"
   ]
  },
  {
   "cell_type": "markdown",
   "metadata": {},
   "source": [
    "y a los valores con el metodo `values()`:"
   ]
  },
  {
   "cell_type": "code",
   "execution_count": 7,
   "metadata": {},
   "outputs": [
    {
     "data": {
      "text/plain": [
       "[u'\"H198A_190E_2.4G\"',\n",
       " u'd0:60:8c:2d:19:0e',\n",
       " 8,\n",
       " u'completed',\n",
       " 58,\n",
       " u'1c:cb:99:69:4b:6a',\n",
       " -65,\n",
       " 922855616,\n",
       " False]"
      ]
     },
     "execution_count": 7,
     "metadata": {},
     "output_type": "execute_result"
    }
   ],
   "source": [
    "wifiConnectionInfo.values()"
   ]
  },
  {
   "cell_type": "markdown",
   "metadata": {},
   "source": [
    "Los diccionarios pueden iterarse usando el metodo` items()` del diccionario como sigue:"
   ]
  },
  {
   "cell_type": "code",
   "execution_count": 8,
   "metadata": {},
   "outputs": [
    {
     "name": "stdout",
     "output_type": "stream",
     "text": [
      "\"H198A_190E_2.4G\"\n",
      "d0:60:8c:2d:19:0e\n",
      "8\n",
      "completed\n",
      "58\n",
      "1c:cb:99:69:4b:6a\n",
      "-65\n",
      "922855616\n",
      "False\n"
     ]
    }
   ],
   "source": [
    "for k,v in wifiConnectionInfo.items():\n",
    "    print(v)"
   ]
  },
  {
   "cell_type": "markdown",
   "metadata": {},
   "source": [
    "El metodo usado regresa una vista del conjunto de elementos del diccionario. Otra forma de acceder a los contenidos es usando `iteritems()`, `viewitems()`."
   ]
  },
  {
   "cell_type": "code",
   "execution_count": 13,
   "metadata": {},
   "outputs": [
    {
     "data": {
      "text/plain": [
       "dict_items([(u'ssid', u'\"H198A_190E_2.4G\"'), (u'bssid', u'd0:60:8c:2d:19:0e'), (u'network_id', 8), (u'supplicant_state', u'completed'), (u'link_speed', 58), (u'mac_address', u'1c:cb:99:69:4b:6a'), (u'rssi', -65), (u'ip_address', 922855616), (u'hidden_ssid', False)])"
      ]
     },
     "execution_count": 13,
     "metadata": {},
     "output_type": "execute_result"
    }
   ],
   "source": [
    "wifiConnectionInfo.viewitems()"
   ]
  },
  {
   "cell_type": "code",
   "execution_count": 11,
   "metadata": {},
   "outputs": [
    {
     "name": "stdout",
     "output_type": "stream",
     "text": [
      "(u'ssid', u'\"H198A_190E_2.4G\"')\n",
      "(u'bssid', u'd0:60:8c:2d:19:0e')\n",
      "(u'network_id', 8)\n",
      "(u'supplicant_state', u'completed')\n",
      "(u'link_speed', 58)\n",
      "(u'mac_address', u'1c:cb:99:69:4b:6a')\n",
      "(u'rssi', -65)\n",
      "(u'ip_address', 922855616)\n",
      "(u'hidden_ssid', False)\n"
     ]
    }
   ],
   "source": [
    "for items in wifiConnectionInfo.iteritems():\n",
    "    print items"
   ]
  },
  {
   "cell_type": "markdown",
   "metadata": {},
   "source": [
    "## Explorando la API de Python: AndroidFacade\n",
    "Duration: 7:00\n",
    "\n",
    "Vamos a explorar varios de los comandos disponibles en la API y ejecutarlos de manera que puedan emplearlos en aplicaciones futuras. Vamos a utilizar la estructura de programacion modular que se emplea tradicionalmente con Python, de modo que encapsulamos cada llamada a la funcion de la API en una funcion que nos permite evaluar si se ejecuta correctamente. Todas las notas se obtuvieron de [la documentacion de la API.](https://github.com/damonkohler/sl4a/blob/wiki/ApiReference.md)\n",
    "\n",
    "Comenzaremos con algunos ejemplos de [rutinas generales de Android](http://www.mithril.com.au/android/doc/AndroidFacade.html):"
   ]
  },
  {
   "cell_type": "markdown",
   "metadata": {},
   "source": [
    "### Vibracion\n",
    "### <sub>vibrate</sub> ###\n",
    "```\n",
    "vibrate(\n",
    " Integer duration[optional, default 300]: duration in milliseconds)\n",
    "\n",
    "Vibrates the phone or a specified duration in milliseconds.\n",
    "```"
   ]
  },
  {
   "cell_type": "code",
   "execution_count": null,
   "metadata": {},
   "outputs": [],
   "source": [
    "def test_vibrate():\n",
    "  result = droide.vibrate()\n",
    "  return result.error is None\n",
    "\n",
    "test_vibrate()"
   ]
  },
  {
   "cell_type": "markdown",
   "metadata": {},
   "source": [
    "### Brindis\n",
    "### <sub>makeToast</sub> ###\n",
    "```\n",
    "makeToast(\n",
    "  String message)\n",
    "\n",
    "Displays a short-duration Toast notification.\n",
    "```"
   ]
  },
  {
   "cell_type": "code",
   "execution_count": null,
   "metadata": {},
   "outputs": [],
   "source": [
    "def test_make_toast():\n",
    "  result = droide.makeToast('Un brindis por ustedes!')\n",
    "  return result.error is None\n",
    "\n",
    "test_make_toast()"
   ]
  },
  {
   "cell_type": "markdown",
   "metadata": {},
   "source": [
    "### Notificacion\n",
    "### <sub>notify</sub> ###\n",
    "```\n",
    "notify(\n",
    " String title: title,\n",
    " String message)\n",
    "\n",
    "Displays a notification that will be canceled when the user clicks on it.\n",
    "```"
   ]
  },
  {
   "cell_type": "code",
   "execution_count": null,
   "metadata": {},
   "outputs": [],
   "source": [
    "def test_notify():\n",
    "  result = droide.notify('Primero el Titulo', 'Despues el mensaje de notificacion!')\n",
    "  return result.error is None\n",
    "\n",
    "test_notify()"
   ]
  },
  {
   "cell_type": "markdown",
   "metadata": {},
   "source": [
    "### Portapapeles\n",
    "### <sub>getClipboard</sub> ###\n",
    "```\n",
    "getClipboard()\n",
    "\n",
    "Read text from the clipboard.\n",
    "\n",
    "Returns:\n",
    "  The text in the clipboard.\n",
    "```\n",
    "\n",
    "### <sub>setClipboard</sub> ###\n",
    "```\n",
    "setClipboard(\n",
    "  String text)\n",
    "\n",
    "Put text in the clipboard.\n",
    "```"
   ]
  },
  {
   "cell_type": "code",
   "execution_count": null,
   "metadata": {},
   "outputs": [],
   "source": [
    "def test_clipboard():\n",
    "  previous = droide.getClipboard().result\n",
    "  print(previous)\n",
    "  msg = 'Hola, clase!'\n",
    "  droide.setClipboard(msg)\n",
    "  echo = droide.getClipboard().result\n",
    "#   droide.setClipboard(previous)\n",
    "  return echo == msg\n",
    "\n",
    "test_clipboard()"
   ]
  },
  {
   "cell_type": "markdown",
   "metadata": {},
   "source": [
    "## Explorando la API de Python: TextToSpeechFacade\n",
    "Duration: 1:00"
   ]
  },
  {
   "cell_type": "markdown",
   "metadata": {},
   "source": [
    "### Texto a voz\n",
    "### <sub>ttsSpeak</sub> ###\n",
    "```\n",
    "ttsSpeak(\n",
    "  String message)\n",
    "\n",
    "Speaks the provided message via TTS.\n",
    "\n",
    "Requires API Level 4.\n",
    "```"
   ]
  },
  {
   "cell_type": "code",
   "execution_count": null,
   "metadata": {},
   "outputs": [],
   "source": [
    "def test_speak():\n",
    "  result = droide.ttsSpeak('Hola, clase')\n",
    "  return result.error is None\n",
    "\n",
    "test_speak()"
   ]
  },
  {
   "cell_type": "markdown",
   "metadata": {},
   "source": [
    "## Explorando la API de Python: UiFacade\n",
    "Duration: 20:00"
   ]
  },
  {
   "cell_type": "markdown",
   "metadata": {},
   "source": [
    "### Dialogo simple\n",
    "### <sub>dialogCreateAlert</sub> ###\n",
    "```\n",
    "dialogCreateAlert(\n",
    " String title[optional],\n",
    "  String message[optional])\n",
    "\n",
    "Create alert dialog.\n",
    "```\n",
    "\n",
    "### <sub>dialogSetPositiveButtonText</sub> ###\n",
    "```\n",
    "dialogSetPositiveButtonText(\n",
    " String text)\n",
    "\n",
    "Set alert dialog positive button text.\n",
    "```\n",
    "\n",
    "### <sub>dialogShow</sub> ###\n",
    "```\n",
    "dialogShow()\n",
    "\n",
    "Show dialog.\n",
    "```\n",
    "\n",
    "### <sub>dialogGetResponse</sub> ###\n",
    "```\n",
    "dialogGetResponse()\n",
    "\n",
    "Returns dialog response.\n",
    "```\n"
   ]
  },
  {
   "cell_type": "code",
   "execution_count": null,
   "metadata": {},
   "outputs": [],
   "source": [
    "def test_alert_dialog():\n",
    "  title = 'Interfaz de usuario'\n",
    "  message = 'Bienvenidos a la prueba de integracion del curso.'\n",
    "  droide.dialogCreateAlert(title, message)\n",
    "  droide.dialogSetPositiveButtonText('Continuar')\n",
    "  droide.dialogShow()\n",
    "  response = droide.dialogGetResponse()\n",
    "  return response\n",
    "\n",
    "test_alert_dialog()"
   ]
  },
  {
   "cell_type": "markdown",
   "metadata": {},
   "source": [
    "### Dialogo con botones\n",
    "### <sub>dialogSetNegativeButtonText</sub> ###\n",
    "```\n",
    "dialogSetNegativeButtonText(\n",
    "  String text)\n",
    "\n",
    "Set alert dialog button text.\n",
    "```\n",
    "\n",
    "### <sub>dialogSetNeutralButtonText</sub> ###\n",
    "```\n",
    "dialogSetNeutralButtonText(\n",
    "  String text)\n",
    "\n",
    "Set alert dialog button text.\n",
    "```"
   ]
  },
  {
   "cell_type": "code",
   "execution_count": null,
   "metadata": {},
   "outputs": [],
   "source": [
    "def test_alert_dialog_with_buttons():\n",
    "  title = 'Alerta!'\n",
    "  message = ('Esta alerta tiene 3 botones y '\n",
    "             'espera a que presiones alguno.')\n",
    "  droide.dialogCreateAlert(title, message)\n",
    "  droide.dialogSetPositiveButtonText('Positive')\n",
    "  droide.dialogSetNegativeButtonText('Negative')\n",
    "  droide.dialogSetNeutralButtonText('Neutral')\n",
    "  droide.dialogShow()\n",
    "  response = droide.dialogGetResponse().result\n",
    "  return response['which'] in ('positive', 'negative', 'neutral')\n",
    "\n",
    "test_alert_dialog_with_buttons()"
   ]
  },
  {
   "cell_type": "markdown",
   "metadata": {},
   "source": [
    "### Dialogo con una lista\n",
    "### <sub>dialogSetItems</sub> ###\n",
    "```\n",
    "dialogSetItems(\n",
    "  JSONArray items)\n",
    "\n",
    "Set alert dialog list items.\n",
    "```"
   ]
  },
  {
   "cell_type": "code",
   "execution_count": null,
   "metadata": {},
   "outputs": [],
   "source": [
    "def test_alert_dialog_with_list():\n",
    "  title = 'Alerta'\n",
    "  droide.dialogCreateAlert(title)\n",
    "  droide.dialogSetItems(['item 1', 'item 2', 'item 3'])\n",
    "  droide.dialogShow()\n",
    "  response = droide.dialogGetResponse().result\n",
    "  return True\n",
    "\n",
    "test_alert_dialog_with_list()"
   ]
  },
  {
   "cell_type": "markdown",
   "metadata": {},
   "source": [
    "### Dialogo con una sola opcion\n",
    "### <sub>dialogSetSingleChoiceItems</sub> ###\n",
    "```\n",
    "dialogSetSingleChoiceItems(\n",
    " JSONArray items,\n",
    " Integer selected[optional, default 0]: selected item index)\n",
    "\n",
    "Set dialog single choice items and selected item.\n",
    "```"
   ]
  },
  {
   "cell_type": "code",
   "execution_count": null,
   "metadata": {},
   "outputs": [],
   "source": [
    "def test_alert_dialog_with_single_choice_list():\n",
    "  title = 'Alert'\n",
    "  droide.dialogCreateAlert(title)\n",
    "  droide.dialogSetSingleChoiceItems(['item 1', 'item 2', 'item 3'])\n",
    "  droide.dialogSetPositiveButtonText('Acepto')\n",
    "  droide.dialogShow()\n",
    "  response = droide.dialogGetResponse().result\n",
    "  return True\n",
    "\n",
    "test_alert_dialog_with_single_choice_list()"
   ]
  },
  {
   "cell_type": "markdown",
   "metadata": {},
   "source": [
    "### Dialogo con opcion multiple\n",
    "### <sub>dialogSetMultiChoiceItems</sub> ###\n",
    "```\n",
    "dialogSetMultiChoiceItems(\n",
    " JSONArray items,\n",
    " JSONArray selected[optional]: list of selected items)\n",
    "\n",
    "Set dialog multiple choice items and selection.\n",
    "```"
   ]
  },
  {
   "cell_type": "code",
   "execution_count": null,
   "metadata": {},
   "outputs": [],
   "source": [
    "def test_alert_dialog_with_multi_choice_list():\n",
    "  title = 'Alert'\n",
    "  droide.dialogCreateAlert(title)\n",
    "  droide.dialogSetMultiChoiceItems(['item 1', 'item 2', 'item 3'], [])\n",
    "  droide.dialogSetPositiveButtonText('Acepto')\n",
    "  droide.dialogShow()\n",
    "  response = droide.dialogGetResponse().result\n",
    "  return True\n",
    "\n",
    "test_alert_dialog_with_multi_choice_list()"
   ]
  },
  {
   "cell_type": "markdown",
   "metadata": {},
   "source": [
    "### Rueda de progreso\n",
    "### <sub>dialogCreateSpinnerProgress</sub> ###\n",
    "```\n",
    "dialogCreateSpinnerProgress(\n",
    " String title[optional],\n",
    " String message[optional],\n",
    " Integer maximum progress[optional, default 100])\n",
    "\n",
    "Create a spinner progress dialog.\n",
    "```\n",
    "\n",
    "### <sub>dialogDismiss</sub> ###\n",
    "```\n",
    "dialogDismiss()\n",
    "\n",
    "Dismiss dialog.\n",
    "```"
   ]
  },
  {
   "cell_type": "code",
   "execution_count": null,
   "metadata": {},
   "outputs": [],
   "source": [
    "import time\n",
    "\n",
    "def test_spinner_progress():\n",
    "  title = 'Ruedo sin parar'\n",
    "  message = 'Esta es una rueda de progreso simple.'\n",
    "  droide.dialogCreateSpinnerProgress(title, message)\n",
    "  droide.dialogShow()\n",
    "  time.sleep(2)\n",
    "  droide.dialogDismiss()\n",
    "  return True\n",
    "\n",
    "test_spinner_progress()"
   ]
  },
  {
   "cell_type": "markdown",
   "metadata": {},
   "source": [
    "### Barra horizontal de progreso\n",
    "### <sub>dialogCreateHorizontalProgress</sub> ###\n",
    "```\n",
    "dialogCreateHorizontalProgress(\n",
    " String title[optional],\n",
    " String message[optional],\n",
    " Integer maximum progress[optional, default 100])\n",
    "\n",
    "Create a horizontal progress dialog.\n",
    "```\n",
    "\n",
    "### <sub>dialogSetCurrentProgress</sub> ###\n",
    "```\n",
    "dialogSetCurrentProgress(\n",
    " Integer current)\n",
    "\n",
    "Set progress dialog current value.\n",
    "```"
   ]
  },
  {
   "cell_type": "code",
   "execution_count": null,
   "metadata": {},
   "outputs": [],
   "source": [
    "def test_horizontal_progress():\n",
    "  title = 'Horizontal'\n",
    "  message = 'Esta es simplemente una barra de progreso horizontal simple.'\n",
    "  droide.dialogCreateHorizontalProgress(title, message, 50)\n",
    "  droide.dialogShow()\n",
    "  for x in range(0, 50):\n",
    "    time.sleep(0.1)\n",
    "    droide.dialogSetCurrentProgress(x)\n",
    "  droide.dialogDismiss()\n",
    "  return True\n",
    "\n",
    "test_horizontal_progress()"
   ]
  },
  {
   "cell_type": "markdown",
   "metadata": {},
   "source": [
    "## Explorando la API de Python: ApplicationManagerFacade\n",
    "Duration: 20:00\n",
    "\n",
    "[Application Manager Facade](http://www.mithril.com.au/android/doc/ApplicationManagerFacade.html)"
   ]
  },
  {
   "cell_type": "markdown",
   "metadata": {},
   "source": [
    "### Aplicaciones ejecutandose\n",
    "### <sub>getRunningPackages</sub> ###\n",
    "```\n",
    "getRunningPackages()\n",
    "\n",
    "Returns a list of packages running activities or services.\n",
    "\n",
    "Returns:\n",
    "  List of packages running activities.\n",
    "```"
   ]
  },
  {
   "cell_type": "code",
   "execution_count": null,
   "metadata": {},
   "outputs": [],
   "source": [
    "def test_get_running_packages():\n",
    "  result = droid.getRunningPackages()\n",
    "  return result.error is None"
   ]
  },
  {
   "cell_type": "markdown",
   "metadata": {},
   "source": [
    "## Explorando la API de Python: BatteryManagerFacade\n",
    "\n",
    "[Battery Manager Facade](http://www.mithril.com.au/android/doc/BatteryManagerFacade.html)"
   ]
  },
  {
   "cell_type": "markdown",
   "metadata": {},
   "source": [
    "### Estado de la bateria\n",
    "### <sub>batteryStartMonitoring</sub> ###\n",
    "```\n",
    "batteryStartMonitoring()\n",
    "\n",
    "Starts tracking battery state.\n",
    "\n",
    "Generates \"battery\" events.\n",
    "```\n",
    "\n",
    "### <sub>batteryGetStatus</sub> ###\n",
    "```\n",
    "batteryGetStatus()\n",
    "\n",
    "Returns  the most recently received battery status data:\n",
    "1 - unknown;\n",
    "2 - charging;\n",
    "3 - discharging;\n",
    "4 - not charging;\n",
    "5 - full;\n",
    "```\n",
    "\n",
    "### <sub>batteryStopMonitoring</sub> ###\n",
    "```\n",
    "batteryStopMonitoring()\n",
    "\n",
    "Stops tracking battery state.\n",
    "```"
   ]
  },
  {
   "cell_type": "code",
   "execution_count": null,
   "metadata": {},
   "outputs": [],
   "source": [
    "def test_battery():\n",
    "  droide.batteryStartMonitoring()\n",
    "  time.sleep(1)\n",
    "  try:\n",
    "    return bool(droide.batteryGetStatus())\n",
    "  finally:\n",
    "    droide.batteryStopMonitoring()\n",
    "    \n",
    "test_battery()"
   ]
  },
  {
   "cell_type": "markdown",
   "metadata": {},
   "source": [
    "## Explorando la API de Python: EventFacade y SensorManagerFacade\n",
    "Duration: 20:00\n",
    "\n",
    "[Event Facade](http://www.mithril.com.au/android/doc/EventFacade.html)\n",
    "[Sensor Manager Facade](http://www.mithril.com.au/android/doc/SensorManagerFacade.html)"
   ]
  },
  {
   "cell_type": "markdown",
   "metadata": {},
   "source": [
    "### Eventos\n",
    "### <sub>eventClearBuffer</sub> ###\n",
    "```\n",
    "eventClearBuffer()\n",
    "\n",
    "Clears all events from the event buffer.\n",
    "```\n",
    "\n",
    "### <sub>eventPoll</sub> ###\n",
    "```\n",
    "eventPoll(\n",
    " Integer number_of_events[optional, default 1])\n",
    "\n",
    "Returns and removes the oldest n events (i.e. location or sensor update, etc.)  \n",
    "from the event buffer.\n",
    "\n",
    "Returns:\n",
    "  A List of Maps of event properties.\n",
    "```"
   ]
  },
  {
   "cell_type": "code",
   "execution_count": null,
   "metadata": {},
   "outputs": [],
   "source": [
    "def event_loop():\n",
    "  for i in range(10):\n",
    "    time.sleep(1)\n",
    "    droid.eventClearBuffer()\n",
    "    time.sleep(1)\n",
    "    e = droid.eventPoll(1)\n",
    "    if e.result is not None:\n",
    "      return True\n",
    "  return False    "
   ]
  },
  {
   "cell_type": "markdown",
   "metadata": {},
   "source": [
    "### Lectura de sensores\n",
    "### <sub>startSensingTimed</sub> ###\n",
    "```\n",
    "startSensingTimed(\n",
    " Integer sensorNumber: 1 = All, 2 = Accelerometer, 3 = Magnetometer and 4 =     \n",
    "Light,\n",
    " Integer delayTime: Minimum time between readings in milliseconds)\n",
    "\n",
    "Starts recording sensor data to be available for polling.\n",
    "\n",
    "Generates \"sensors\" events.\n",
    "```\n",
    "\n",
    "### <sub>stopSensing</sub> ###\n",
    "```\n",
    "stopSensing()\n",
    "\n",
    "Stops collecting sensor data.\n",
    "```"
   ]
  },
  {
   "cell_type": "code",
   "execution_count": null,
   "metadata": {},
   "outputs": [],
   "source": [
    "def test_sensor():\n",
    "  # acelerometro 1 lectura por segundo\n",
    "  droid.startSensingTimed(2, 1000)\n",
    "  try:\n",
    "    return event_loop()\n",
    "  finally:\n",
    "    droid.stopSensing()"
   ]
  },
  {
   "cell_type": "markdown",
   "metadata": {},
   "source": [
    "## Explorando la API de Python: EventFacade y LocationFacade\n",
    "Duration: 20:00\n",
    "\n",
    "[Event Facade](http://www.mithril.com.au/android/doc/EventFacade.html)\n",
    "[Location Facade](http://www.mithril.com.au/android/doc/LocationFacade.html)"
   ]
  },
  {
   "cell_type": "markdown",
   "metadata": {},
   "source": [
    "### Lectura de GPS\n",
    "### <sub>startLocating</sub> ###\n",
    "```\n",
    "startLocating(\n",
    " Integer minDistance[optional, default 60000]: minimum time between updates in  \n",
    "milliseconds,\n",
    " Integer minUpdateDistance[optional, default 30]: minimum distance between      \n",
    "updates in meters)\n",
    "\n",
    "Starts collecting location data.\n",
    "\n",
    "Generates \"location\" events.\n",
    "```\n",
    "\n",
    "### <sub>stopLocating</sub> ###\n",
    "```\n",
    "stopLocating()\n",
    "\n",
    "Stops collecting location data.\n",
    "```\n"
   ]
  },
  {
   "cell_type": "code",
   "execution_count": null,
   "metadata": {},
   "outputs": [],
   "source": [
    "def test_gps():\n",
    "  droid.startLocating()\n",
    "  try:\n",
    "    return event_loop()\n",
    "  finally:\n",
    "    droid.stopLocating()"
   ]
  },
  {
   "cell_type": "markdown",
   "metadata": {},
   "source": [
    "### Geolocalizacion\n",
    "### <sub>getLastKnownLocation</sub> ###\n",
    "```\n",
    "getLastKnownLocation()\n",
    "\n",
    "Returns the last known location of the device.\n",
    "\n",
    "Returns:\n",
    "  A map of location information by provider.\n",
    "```\n"
   ]
  },
  {
   "cell_type": "code",
   "execution_count": null,
   "metadata": {},
   "outputs": [],
   "source": [
    "def test_get_last_known_location():\n",
    "  result = droid.getLastKnownLocation()\n",
    "  return result.error is None"
   ]
  },
  {
   "cell_type": "markdown",
   "metadata": {},
   "source": [
    "### Geolocalizacion\n",
    "### <sub>geocode</sub> ###\n",
    "```\n",
    "geocode(\n",
    " Double latitude,\n",
    " Double longitude,\n",
    " Integer maxResults[optional, default 1]: maximum number of results)\n",
    "\n",
    "Returns a list of addresses for the given latitude and longitude.\n",
    "\n",
    "Returns:\n",
    "  A list of addresses.\n",
    "```"
   ]
  },
  {
   "cell_type": "code",
   "execution_count": null,
   "metadata": {},
   "outputs": [],
   "source": [
    "def test_geocode():\n",
    "  result = droid.geocode(0.0, 0.0, 1)\n",
    "  return result.error is None"
   ]
  },
  {
   "cell_type": "markdown",
   "metadata": {},
   "source": [
    "## Explorando la API de Python: EventFacade y PhoneFacade\n",
    "Duration: 20:00\n",
    "\n",
    "[Event Facade](http://www.mithril.com.au/android/doc/EventFacade.html)\n",
    "[Phone Facade](http://www.mithril.com.au/android/doc/PhoneFacade.html)"
   ]
  },
  {
   "cell_type": "markdown",
   "metadata": {},
   "source": [
    "### Estado del telefono\n",
    "### <sub>startTrackingPhoneState</sub> ###\n",
    "```\n",
    "startTrackingPhoneState()\n",
    "\n",
    "Starts tracking phone state.\n",
    "\n",
    "Generates \"phone\" events.\n",
    "```\n",
    "\n",
    "### <sub>stopTrackingPhoneState</sub> ###\n",
    "```\n",
    "stopTrackingPhoneState()\n",
    "\n",
    "Stops tracking phone state.\n",
    "```"
   ]
  },
  {
   "cell_type": "code",
   "execution_count": null,
   "metadata": {},
   "outputs": [],
   "source": [
    "def test_phone_state():\n",
    "  droid.startTrackingPhoneState()\n",
    "  try:\n",
    "    return event_loop()\n",
    "  finally:\n",
    "    droid.stopTrackingPhoneState()"
   ]
  },
  {
   "cell_type": "markdown",
   "metadata": {},
   "source": [
    "## Explorando la API de Python: EventFacade y SettingsFacade\n",
    "Duration: 20:00\n",
    "\n",
    "[Event Facade](http://www.mithril.com.au/android/doc/EventFacade.html)\n",
    "[Settings Facade](http://www.mithril.com.au/android/doc/SettingsFacade.html)"
   ]
  },
  {
   "cell_type": "markdown",
   "metadata": {},
   "source": [
    "### Enciende/Apaga Timbre\n",
    "### <sub>toggleRingerSilentMode</sub> ###\n",
    "```\n",
    "toggleRingerSilentMode(\n",
    " Boolean enabled[optional])\n",
    "\n",
    "Toggles ringer silent mode on and off.\n",
    "\n",
    "Returns:\n",
    "  True if ringer silent mode is enabled.\n",
    "```"
   ]
  },
  {
   "cell_type": "code",
   "execution_count": null,
   "metadata": {},
   "outputs": [],
   "source": [
    "def test_ringer_silent():\n",
    "  result1 = droid.toggleRingerSilentMode()\n",
    "  result2 = droid.toggleRingerSilentMode()\n",
    "  return result1.error is None and result2.error is None"
   ]
  },
  {
   "cell_type": "markdown",
   "metadata": {},
   "source": [
    "### Volumen del timbre\n",
    "### <sub>getRingerVolume</sub> ###\n",
    "```\n",
    "getRingerVolume()\n",
    "\n",
    "Returns the current ringer volume.\n",
    "```\n",
    "\n",
    "### <sub>setRingerVolume</sub> ###\n",
    "```\n",
    "setRingerVolume(\n",
    "  Integer volume)\n",
    "\n",
    "Sets the ringer volume.\n",
    "```"
   ]
  },
  {
   "cell_type": "code",
   "execution_count": null,
   "metadata": {},
   "outputs": [],
   "source": [
    "def test_ringer_volume():\n",
    "  get_result = droid.getRingerVolume()\n",
    "  if get_result.error is not None:\n",
    "    return False\n",
    "  droid.setRingerVolume(0)\n",
    "  set_result = droid.setRingerVolume(get_result.result)\n",
    "  if set_result.error is not None:\n",
    "    return False\n",
    "  return True"
   ]
  },
  {
   "cell_type": "markdown",
   "metadata": {},
   "source": [
    "## Explorando la API de Python: EventFacade y WifiFacade\n",
    "Duration: 20:00\n",
    "\n",
    "[Event Facade](http://www.mithril.com.au/android/doc/EventFacade.html)\n",
    "[Wifi Facade](http://www.mithril.com.au/android/doc/WifiFacade.html)"
   ]
  },
  {
   "cell_type": "markdown",
   "metadata": {},
   "source": [
    "### Estado del Wifi\n",
    "### <sub>toggleWifiState</sub> ###\n",
    "```\n",
    "toggleWifiState(\n",
    " Boolean enabled[optional])\n",
    "\n",
    "Toggle Wifi on and off.\n",
    "\n",
    "Returns:\n",
    "  True if Wifi is enabled.\n",
    "```"
   ]
  },
  {
   "cell_type": "code",
   "execution_count": null,
   "metadata": {},
   "outputs": [],
   "source": [
    "def test_wifi():\n",
    "  result1 = droid.toggleWifiState()\n",
    "  result2 = droid.toggleWifiState()\n",
    "  droid.toggleWifiState(True)  # Make sure wifi ends up ON, as it interferes with other tests\n",
    "  return result1.error is None and result2.error is None"
   ]
  },
  {
   "cell_type": "markdown",
   "metadata": {},
   "source": [
    "## Todas las Facades\n",
    "Wow! Eso fue mucho trabajo! Pero para ahora saben un poco mas como utilizar las diferentes llamadas a la API. Por supuesto no hemos revisado ni una cuarta parte de la funcionalidad disponible! hay mas de 20 fachadas que integran las diferentes funcionalidades de la API, listadas a continuacion. \n",
    "\n",
    "\n",
    "<html><head><title>SL4A API Help</title></head>\n",
    "<body>\n",
    "<h1>SL4A API Help</h1>\n",
    "<table border=1>\n",
    "<tr><td><a href=\"http://www.mithril.com.au/android/doc/ActivityResultFacade.html\">ActivityResultFacade</a></td><td>Allows you to return results to a startActivityForResult call</td></tr>\n",
    "<tr><td><a href=\"http://www.mithril.com.au/android/doc/AndroidFacade.html\">AndroidFacade</a></td><td>Some general purpose Android routines</td></tr>\n",
    "<tr><td><a href=\"http://www.mithril.com.au/android/doc/ApplicationManagerFacade.html\">ApplicationManagerFacade</a></td><td>Facade for managing Applications</td></tr>\n",
    "<tr><td><a href=\"http://www.mithril.com.au/android/doc/BatteryManagerFacade.html\">BatteryManagerFacade</a></td><td>Exposes Batterymanager API</td></tr>\n",
    "<tr><td><a href=\"http://www.mithril.com.au/android/doc/BluetoothFacade.html\">BluetoothFacade</a></td><td>Bluetooth functions</td></tr>\n",
    "<tr><td><a href=\"http://www.mithril.com.au/android/doc/CameraFacade.html\">CameraFacade</a></td><td>Access Camera functions</td></tr>\n",
    "<tr><td><a href=\"http://www.mithril.com.au/android/doc/CommonIntentsFacade.html\">CommonIntentsFacade</a></td><td>A selection of commonly used intents</td></tr>\n",
    "<tr><td><a href=\"http://www.mithril.com.au/android/doc/ContactsFacade.html\">ContactsFacade</a></td><td>Provides access to contacts related functionality</td></tr>\n",
    "<tr><td><a href=\"http://www.mithril.com.au/android/doc/EventFacade.html\">EventFacade</a></td><td>Manage the event queue</td></tr>\n",
    "<tr><td><a href=\"http://www.mithril.com.au/android/doc/EyesFreeFacade.html\">EyesFreeFacade</a></td><td>Provides Text To Speech services for API 3 or less</td></tr>\n",
    "<tr><td><a href=\"http://www.mithril.com.au/android/doc/LocationFacade.html\">LocationFacade</a></td><td>This facade exposes the LocationManager related functionality</td></tr>\n",
    "<tr><td><a href=\"http://www.mithril.com.au/android/doc/MediaPlayerFacade.html\">MediaPlayerFacade</a></td><td>This facade exposes basic mediaPlayer functionality</td></tr>\n",
    "<tr><td><a href=\"http://www.mithril.com.au/android/doc/MediaRecorderFacade.html\">MediaRecorderFacade</a></td><td>A facade for recording media</td></tr>\n",
    "<tr><td><a href=\"http://www.mithril.com.au/android/doc/PhoneFacade.html\">PhoneFacade</a></td><td>Exposes TelephonyManager functionality</td></tr>\n",
    "<tr><td><a href=\"http://www.mithril.com.au/android/doc/PreferencesFacade.html\">PreferencesFacade</a></td><td>This facade allows access to the Preferences interface</td></tr>\n",
    "<tr><td><a href=\"http://www.mithril.com.au/android/doc/SensorManagerFacade.html\">SensorManagerFacade</a></td><td>Exposes the SensorManager related functionality</td></tr>\n",
    "<tr><td><a href=\"http://www.mithril.com.au/android/doc/SettingsFacade.html\">SettingsFacade</a></td><td>Exposes phone settings functionality</td></tr>\n",
    "<tr><td><a href=\"http://www.mithril.com.au/android/doc/SignalStrengthFacade.html\">SignalStrengthFacade</a></td><td>Exposes SignalStrength functionality</td></tr>\n",
    "<tr><td><a href=\"http://www.mithril.com.au/android/doc/SmsFacade.html\">SmsFacade</a></td><td>Provides access to SMS related functionality</td></tr>\n",
    "<tr><td><a href=\"http://www.mithril.com.au/android/doc/SpeechRecognitionFacade.html\">SpeechRecognitionFacade</a></td><td>A facade containing RPC implementations related to the speech-to-text functionality of Android</td></tr>\n",
    "<tr><td><a href=\"http://www.mithril.com.au/android/doc/TextToSpeechFacade.html\">TextToSpeechFacade</a></td><td>Provides Text To Speech services for API 4 or more</td></tr>\n",
    "<tr><td><a href=\"http://www.mithril.com.au/android/doc/ToneGeneratorFacade.html\">ToneGeneratorFacade</a></td><td>Generate DTMF tones</td></tr>\n",
    "<tr><td><a href=\"http://www.mithril.com.au/android/doc/UiFacade.html\">UiFacade</a></td><td>User Interface Facade</td></tr>\n",
    "<tr><td><a href=\"http://www.mithril.com.au/android/doc/WakeLockFacade.html\">WakeLockFacade</a></td><td>A facade exposing some of the functionality of the PowerManager, in particular wake locks</td></tr>\n",
    "<tr><td><a href=\"http://www.mithril.com.au/android/doc/WebCamFacade.html\">WebCamFacade</a></td><td>Manages access to camera streaming</td></tr>\n",
    "<tr><td><a href=\"http://www.mithril.com.au/android/doc/WifiFacade.html\">WifiFacade</a></td><td>Wifi functions</td></tr>\n",
    "</body></html>"
   ]
  }
 ],
 "metadata": {
  "kernelspec": {
   "display_name": "Python 2",
   "language": "python",
   "name": "python2"
  },
  "language_info": {
   "codemirror_mode": {
    "name": "ipython",
    "version": 2
   },
   "file_extension": ".py",
   "mimetype": "text/x-python",
   "name": "python",
   "nbconvert_exporter": "python",
   "pygments_lexer": "ipython2",
   "version": "2.7.15"
  }
 },
 "nbformat": 4,
 "nbformat_minor": 2
}
